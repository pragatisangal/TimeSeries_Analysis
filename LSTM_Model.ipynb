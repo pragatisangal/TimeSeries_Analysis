{
 "cells": [
  {
   "cell_type": "markdown",
   "id": "b925ce18",
   "metadata": {},
   "source": [
    "### Install Required packages used for Deep Learning LSTM model"
   ]
  },
  {
   "cell_type": "code",
   "execution_count": 1,
   "id": "7c8a9040",
   "metadata": {},
   "outputs": [],
   "source": [
    "## pip install tensorflow\n",
    "## pip install pandas_datareader"
   ]
  },
  {
   "cell_type": "markdown",
   "id": "4587061c",
   "metadata": {},
   "source": [
    "### Import Required Libraries"
   ]
  },
  {
   "cell_type": "code",
   "execution_count": 2,
   "id": "837725ca",
   "metadata": {},
   "outputs": [],
   "source": [
    "import numpy as np\n",
    "import pandas as pd\n",
    "import datetime as dt\n",
    "import matplotlib.pyplot as plt\n",
    "import pandas_datareader as web\n",
    "from sklearn.preprocessing import MinMaxScaler\n",
    "from tensorflow.keras.layers import Dense, Dropout, LSTM\n",
    "from tensorflow.keras.models import Sequential"
   ]
  },
  {
   "cell_type": "markdown",
   "id": "299f6328",
   "metadata": {},
   "source": [
    "### Load the Bitcoin USD Data from \"Yahoo Finance\""
   ]
  },
  {
   "cell_type": "code",
   "execution_count": 3,
   "id": "b72516f8",
   "metadata": {},
   "outputs": [],
   "source": [
    "crypto_currency = 'BTC'\n",
    "against_currency = 'USD'\n",
    "\n",
    "start = dt.datetime(2021,1,2)\n",
    "end = dt.datetime(2022,9,30)"
   ]
  },
  {
   "cell_type": "code",
   "execution_count": 4,
   "id": "9679549e",
   "metadata": {},
   "outputs": [
    {
     "data": {
      "text/html": [
       "<div>\n",
       "<style scoped>\n",
       "    .dataframe tbody tr th:only-of-type {\n",
       "        vertical-align: middle;\n",
       "    }\n",
       "\n",
       "    .dataframe tbody tr th {\n",
       "        vertical-align: top;\n",
       "    }\n",
       "\n",
       "    .dataframe thead th {\n",
       "        text-align: right;\n",
       "    }\n",
       "</style>\n",
       "<table border=\"1\" class=\"dataframe\">\n",
       "  <thead>\n",
       "    <tr style=\"text-align: right;\">\n",
       "      <th></th>\n",
       "      <th>High</th>\n",
       "      <th>Low</th>\n",
       "      <th>Open</th>\n",
       "      <th>Close</th>\n",
       "      <th>Volume</th>\n",
       "      <th>Adj Close</th>\n",
       "    </tr>\n",
       "    <tr>\n",
       "      <th>Date</th>\n",
       "      <th></th>\n",
       "      <th></th>\n",
       "      <th></th>\n",
       "      <th></th>\n",
       "      <th></th>\n",
       "      <th></th>\n",
       "    </tr>\n",
       "  </thead>\n",
       "  <tbody>\n",
       "    <tr>\n",
       "      <th>2021-01-01</th>\n",
       "      <td>29600.626953</td>\n",
       "      <td>28803.585938</td>\n",
       "      <td>28994.009766</td>\n",
       "      <td>29374.152344</td>\n",
       "      <td>40730301359</td>\n",
       "      <td>29374.152344</td>\n",
       "    </tr>\n",
       "    <tr>\n",
       "      <th>2021-01-02</th>\n",
       "      <td>33155.117188</td>\n",
       "      <td>29091.181641</td>\n",
       "      <td>29376.455078</td>\n",
       "      <td>32127.267578</td>\n",
       "      <td>67865420765</td>\n",
       "      <td>32127.267578</td>\n",
       "    </tr>\n",
       "    <tr>\n",
       "      <th>2021-01-03</th>\n",
       "      <td>34608.558594</td>\n",
       "      <td>32052.316406</td>\n",
       "      <td>32129.408203</td>\n",
       "      <td>32782.023438</td>\n",
       "      <td>78665235202</td>\n",
       "      <td>32782.023438</td>\n",
       "    </tr>\n",
       "    <tr>\n",
       "      <th>2021-01-04</th>\n",
       "      <td>33440.218750</td>\n",
       "      <td>28722.755859</td>\n",
       "      <td>32810.949219</td>\n",
       "      <td>31971.914062</td>\n",
       "      <td>81163475344</td>\n",
       "      <td>31971.914062</td>\n",
       "    </tr>\n",
       "    <tr>\n",
       "      <th>2021-01-05</th>\n",
       "      <td>34437.589844</td>\n",
       "      <td>30221.187500</td>\n",
       "      <td>31977.041016</td>\n",
       "      <td>33992.429688</td>\n",
       "      <td>67547324782</td>\n",
       "      <td>33992.429688</td>\n",
       "    </tr>\n",
       "    <tr>\n",
       "      <th>...</th>\n",
       "      <td>...</td>\n",
       "      <td>...</td>\n",
       "      <td>...</td>\n",
       "      <td>...</td>\n",
       "      <td>...</td>\n",
       "      <td>...</td>\n",
       "    </tr>\n",
       "    <tr>\n",
       "      <th>2022-09-26</th>\n",
       "      <td>19274.873047</td>\n",
       "      <td>18721.285156</td>\n",
       "      <td>18803.900391</td>\n",
       "      <td>19222.671875</td>\n",
       "      <td>44148798321</td>\n",
       "      <td>19222.671875</td>\n",
       "    </tr>\n",
       "    <tr>\n",
       "      <th>2022-09-27</th>\n",
       "      <td>20338.455078</td>\n",
       "      <td>18915.667969</td>\n",
       "      <td>19221.839844</td>\n",
       "      <td>19110.546875</td>\n",
       "      <td>58571439619</td>\n",
       "      <td>19110.546875</td>\n",
       "    </tr>\n",
       "    <tr>\n",
       "      <th>2022-09-28</th>\n",
       "      <td>19688.343750</td>\n",
       "      <td>18553.296875</td>\n",
       "      <td>19104.621094</td>\n",
       "      <td>19426.720703</td>\n",
       "      <td>53071298734</td>\n",
       "      <td>19426.720703</td>\n",
       "    </tr>\n",
       "    <tr>\n",
       "      <th>2022-09-29</th>\n",
       "      <td>19589.265625</td>\n",
       "      <td>18924.353516</td>\n",
       "      <td>19427.779297</td>\n",
       "      <td>19573.050781</td>\n",
       "      <td>41037843771</td>\n",
       "      <td>19573.050781</td>\n",
       "    </tr>\n",
       "    <tr>\n",
       "      <th>2022-09-30</th>\n",
       "      <td>20109.849609</td>\n",
       "      <td>19265.662109</td>\n",
       "      <td>19573.431641</td>\n",
       "      <td>19431.789062</td>\n",
       "      <td>43975248085</td>\n",
       "      <td>19431.789062</td>\n",
       "    </tr>\n",
       "  </tbody>\n",
       "</table>\n",
       "<p>638 rows × 6 columns</p>\n",
       "</div>"
      ],
      "text/plain": [
       "                    High           Low          Open         Close  \\\n",
       "Date                                                                 \n",
       "2021-01-01  29600.626953  28803.585938  28994.009766  29374.152344   \n",
       "2021-01-02  33155.117188  29091.181641  29376.455078  32127.267578   \n",
       "2021-01-03  34608.558594  32052.316406  32129.408203  32782.023438   \n",
       "2021-01-04  33440.218750  28722.755859  32810.949219  31971.914062   \n",
       "2021-01-05  34437.589844  30221.187500  31977.041016  33992.429688   \n",
       "...                  ...           ...           ...           ...   \n",
       "2022-09-26  19274.873047  18721.285156  18803.900391  19222.671875   \n",
       "2022-09-27  20338.455078  18915.667969  19221.839844  19110.546875   \n",
       "2022-09-28  19688.343750  18553.296875  19104.621094  19426.720703   \n",
       "2022-09-29  19589.265625  18924.353516  19427.779297  19573.050781   \n",
       "2022-09-30  20109.849609  19265.662109  19573.431641  19431.789062   \n",
       "\n",
       "                 Volume     Adj Close  \n",
       "Date                                   \n",
       "2021-01-01  40730301359  29374.152344  \n",
       "2021-01-02  67865420765  32127.267578  \n",
       "2021-01-03  78665235202  32782.023438  \n",
       "2021-01-04  81163475344  31971.914062  \n",
       "2021-01-05  67547324782  33992.429688  \n",
       "...                 ...           ...  \n",
       "2022-09-26  44148798321  19222.671875  \n",
       "2022-09-27  58571439619  19110.546875  \n",
       "2022-09-28  53071298734  19426.720703  \n",
       "2022-09-29  41037843771  19573.050781  \n",
       "2022-09-30  43975248085  19431.789062  \n",
       "\n",
       "[638 rows x 6 columns]"
      ]
     },
     "execution_count": 4,
     "metadata": {},
     "output_type": "execute_result"
    }
   ],
   "source": [
    "## data from Jan 1, 2021 to Sept 30, 2022\n",
    "\n",
    "data = web.DataReader(f'{crypto_currency}-{against_currency}','yahoo',start,end)\n",
    "data"
   ]
  },
  {
   "cell_type": "markdown",
   "id": "8b5e5074",
   "metadata": {},
   "source": [
    "### Data Preparation - Data Scaling (Normalization)"
   ]
  },
  {
   "cell_type": "code",
   "execution_count": 5,
   "id": "e7e23252",
   "metadata": {},
   "outputs": [
    {
     "name": "stdout",
     "output_type": "stream",
     "text": [
      "[[0.22086655]\n",
      " [0.27703031]\n",
      " [0.29038738]\n",
      " [0.27386109]\n",
      " [0.31507976]]\n",
      "638\n"
     ]
    }
   ],
   "source": [
    "scaler = MinMaxScaler(feature_range=(0,1))\n",
    "scaled_data = scaler.fit_transform(data['Close'].values.reshape(-1,1))\n",
    "\n",
    "print(scaled_data[0:5])\n",
    "print(len(scaled_data))"
   ]
  },
  {
   "cell_type": "markdown",
   "id": "a2a247fd",
   "metadata": {},
   "source": [
    "### Train Test Split"
   ]
  },
  {
   "cell_type": "code",
   "execution_count": 6,
   "id": "628415d4",
   "metadata": {},
   "outputs": [
    {
     "name": "stdout",
     "output_type": "stream",
     "text": [
      "608 608\n"
     ]
    }
   ],
   "source": [
    "## Train Data (Jan 2021 to Aug 2022) and Test Data (Sept 2022)\n",
    "\n",
    "prediction_days = 30 ## test data length\n",
    "\n",
    "## Defining Train data\n",
    "\n",
    "x_train, y_train = [], []\n",
    "\n",
    "for x in range(prediction_days,len(scaled_data)):\n",
    "    x_train.append(scaled_data[x-prediction_days:x, 0])\n",
    "    y_train.append(scaled_data[x, 0])\n",
    "\n",
    "x_train, y_train = np.array(x_train), np.array(y_train)\n",
    "\n",
    "x_train = np.reshape(x_train, (x_train.shape[0], x_train.shape[1], 1))\n",
    "x_train\n",
    "\n",
    "print(len(x_train), len(y_train))"
   ]
  },
  {
   "cell_type": "code",
   "execution_count": 7,
   "id": "71955d33",
   "metadata": {},
   "outputs": [
    {
     "name": "stdout",
     "output_type": "stream",
     "text": [
      "30\n"
     ]
    }
   ],
   "source": [
    "# Defining test data\n",
    "\n",
    "test_start = dt.datetime(2022,9,2)\n",
    "test_end = dt.datetime(2022,9,30)\n",
    "\n",
    "test_data = web.DataReader(f'{crypto_currency}-{against_currency}','yahoo',test_start,test_end)\n",
    "actual_prices = test_data['Close'].values\n",
    "\n",
    "total_dataset = pd.concat((data['Close'], test_data['Close']), axis = 0)\n",
    "\n",
    "model_inputs = total_dataset[len(total_dataset)-len(test_data)-prediction_days:].values\n",
    "model_inputs = model_inputs.reshape(-1,1)\n",
    "model_inputs = scaler.fit_transform(model_inputs)\n",
    "len(model_inputs)\n",
    "\n",
    "x_test = []\n",
    "\n",
    "for x in range(prediction_days,len(model_inputs)):\n",
    "    x_test.append(model_inputs[x-prediction_days:x, 0])\n",
    "\n",
    "x_test = np.array(x_test)\n",
    "x_test = np.reshape(x_test, (x_test.shape[0], x_test.shape[1], 1))\n",
    "x_test\n",
    "print(len(x_test))"
   ]
  },
  {
   "cell_type": "markdown",
   "id": "bf0c3d16",
   "metadata": {},
   "source": [
    "### LSTM Model Building "
   ]
  },
  {
   "cell_type": "code",
   "execution_count": 8,
   "id": "8cdeb42a",
   "metadata": {},
   "outputs": [
    {
     "name": "stdout",
     "output_type": "stream",
     "text": [
      "Epoch 1/100\n",
      "19/19 [==============================] - 5s 22ms/step - loss: 0.0648\n",
      "Epoch 2/100\n",
      "19/19 [==============================] - 0s 21ms/step - loss: 0.0189\n",
      "Epoch 3/100\n",
      "19/19 [==============================] - 0s 21ms/step - loss: 0.0148\n",
      "Epoch 4/100\n",
      "19/19 [==============================] - 0s 21ms/step - loss: 0.0165\n",
      "Epoch 5/100\n",
      "19/19 [==============================] - 0s 23ms/step - loss: 0.0129\n",
      "Epoch 6/100\n",
      "19/19 [==============================] - 1s 27ms/step - loss: 0.0112\n",
      "Epoch 7/100\n",
      "19/19 [==============================] - 0s 22ms/step - loss: 0.0119\n",
      "Epoch 8/100\n",
      "19/19 [==============================] - 0s 21ms/step - loss: 0.0107\n",
      "Epoch 9/100\n",
      "19/19 [==============================] - 0s 21ms/step - loss: 0.0111\n",
      "Epoch 10/100\n",
      "19/19 [==============================] - 0s 21ms/step - loss: 0.0101\n",
      "Epoch 11/100\n",
      "19/19 [==============================] - 0s 21ms/step - loss: 0.0094\n",
      "Epoch 12/100\n",
      "19/19 [==============================] - 0s 21ms/step - loss: 0.0092\n",
      "Epoch 13/100\n",
      "19/19 [==============================] - 0s 21ms/step - loss: 0.0093\n",
      "Epoch 14/100\n",
      "19/19 [==============================] - 0s 21ms/step - loss: 0.0106\n",
      "Epoch 15/100\n",
      "19/19 [==============================] - 0s 21ms/step - loss: 0.0095\n",
      "Epoch 16/100\n",
      "19/19 [==============================] - 0s 21ms/step - loss: 0.0086\n",
      "Epoch 17/100\n",
      "19/19 [==============================] - 0s 22ms/step - loss: 0.0079\n",
      "Epoch 18/100\n",
      "19/19 [==============================] - 0s 22ms/step - loss: 0.0074\n",
      "Epoch 19/100\n",
      "19/19 [==============================] - 0s 21ms/step - loss: 0.0066\n",
      "Epoch 20/100\n",
      "19/19 [==============================] - 0s 21ms/step - loss: 0.0080\n",
      "Epoch 21/100\n",
      "19/19 [==============================] - 0s 21ms/step - loss: 0.0072\n",
      "Epoch 22/100\n",
      "19/19 [==============================] - 0s 21ms/step - loss: 0.0073\n",
      "Epoch 23/100\n",
      "19/19 [==============================] - 0s 21ms/step - loss: 0.0062\n",
      "Epoch 24/100\n",
      "19/19 [==============================] - 0s 21ms/step - loss: 0.0063\n",
      "Epoch 25/100\n",
      "19/19 [==============================] - 0s 21ms/step - loss: 0.0062\n",
      "Epoch 26/100\n",
      "19/19 [==============================] - 0s 22ms/step - loss: 0.0063\n",
      "Epoch 27/100\n",
      "19/19 [==============================] - 0s 21ms/step - loss: 0.0068\n",
      "Epoch 28/100\n",
      "19/19 [==============================] - 0s 21ms/step - loss: 0.0071\n",
      "Epoch 29/100\n",
      "19/19 [==============================] - 0s 21ms/step - loss: 0.0053\n",
      "Epoch 30/100\n",
      "19/19 [==============================] - 0s 22ms/step - loss: 0.0056\n",
      "Epoch 31/100\n",
      "19/19 [==============================] - 0s 22ms/step - loss: 0.0057\n",
      "Epoch 32/100\n",
      "19/19 [==============================] - 0s 21ms/step - loss: 0.0056\n",
      "Epoch 33/100\n",
      "19/19 [==============================] - 0s 21ms/step - loss: 0.0057\n",
      "Epoch 34/100\n",
      "19/19 [==============================] - 0s 21ms/step - loss: 0.0060\n",
      "Epoch 35/100\n",
      "19/19 [==============================] - 0s 21ms/step - loss: 0.0052\n",
      "Epoch 36/100\n",
      "19/19 [==============================] - 0s 21ms/step - loss: 0.0058\n",
      "Epoch 37/100\n",
      "19/19 [==============================] - 0s 21ms/step - loss: 0.0058\n",
      "Epoch 38/100\n",
      "19/19 [==============================] - 0s 22ms/step - loss: 0.0064\n",
      "Epoch 39/100\n",
      "19/19 [==============================] - 0s 21ms/step - loss: 0.0059\n",
      "Epoch 40/100\n",
      "19/19 [==============================] - 0s 22ms/step - loss: 0.0050\n",
      "Epoch 41/100\n",
      "19/19 [==============================] - 0s 21ms/step - loss: 0.0049\n",
      "Epoch 42/100\n",
      "19/19 [==============================] - 0s 21ms/step - loss: 0.0051\n",
      "Epoch 43/100\n",
      "19/19 [==============================] - 0s 22ms/step - loss: 0.0050\n",
      "Epoch 44/100\n",
      "19/19 [==============================] - 0s 21ms/step - loss: 0.0052\n",
      "Epoch 45/100\n",
      "19/19 [==============================] - 0s 21ms/step - loss: 0.0051\n",
      "Epoch 46/100\n",
      "19/19 [==============================] - 0s 22ms/step - loss: 0.0048\n",
      "Epoch 47/100\n",
      "19/19 [==============================] - 0s 21ms/step - loss: 0.0048\n",
      "Epoch 48/100\n",
      "19/19 [==============================] - 0s 22ms/step - loss: 0.0048\n",
      "Epoch 49/100\n",
      "19/19 [==============================] - 0s 21ms/step - loss: 0.0048\n",
      "Epoch 50/100\n",
      "19/19 [==============================] - 0s 22ms/step - loss: 0.0040\n",
      "Epoch 51/100\n",
      "19/19 [==============================] - 0s 21ms/step - loss: 0.0048\n",
      "Epoch 52/100\n",
      "19/19 [==============================] - 0s 20ms/step - loss: 0.0042\n",
      "Epoch 53/100\n",
      "19/19 [==============================] - 0s 22ms/step - loss: 0.0047\n",
      "Epoch 54/100\n",
      "19/19 [==============================] - 0s 22ms/step - loss: 0.0044\n",
      "Epoch 55/100\n",
      "19/19 [==============================] - 0s 23ms/step - loss: 0.0043\n",
      "Epoch 56/100\n",
      "19/19 [==============================] - 0s 21ms/step - loss: 0.0044\n",
      "Epoch 57/100\n",
      "19/19 [==============================] - 0s 21ms/step - loss: 0.0041\n",
      "Epoch 58/100\n",
      "19/19 [==============================] - 0s 22ms/step - loss: 0.0043\n",
      "Epoch 59/100\n",
      "19/19 [==============================] - 0s 21ms/step - loss: 0.0042\n",
      "Epoch 60/100\n",
      "19/19 [==============================] - 0s 22ms/step - loss: 0.0041\n",
      "Epoch 61/100\n",
      "19/19 [==============================] - 0s 20ms/step - loss: 0.0043\n",
      "Epoch 62/100\n",
      "19/19 [==============================] - 0s 21ms/step - loss: 0.0038\n",
      "Epoch 63/100\n",
      "19/19 [==============================] - 0s 22ms/step - loss: 0.0041\n",
      "Epoch 64/100\n",
      "19/19 [==============================] - 0s 21ms/step - loss: 0.0038\n",
      "Epoch 65/100\n",
      "19/19 [==============================] - 0s 22ms/step - loss: 0.0042\n",
      "Epoch 66/100\n",
      "19/19 [==============================] - 0s 22ms/step - loss: 0.0040\n",
      "Epoch 67/100\n",
      "19/19 [==============================] - 0s 21ms/step - loss: 0.0038\n",
      "Epoch 68/100\n",
      "19/19 [==============================] - 0s 22ms/step - loss: 0.0035\n",
      "Epoch 69/100\n",
      "19/19 [==============================] - 0s 22ms/step - loss: 0.0037\n",
      "Epoch 70/100\n",
      "19/19 [==============================] - 0s 22ms/step - loss: 0.0041\n",
      "Epoch 71/100\n",
      "19/19 [==============================] - 0s 21ms/step - loss: 0.0042\n",
      "Epoch 72/100\n",
      "19/19 [==============================] - 0s 21ms/step - loss: 0.0038\n",
      "Epoch 73/100\n",
      "19/19 [==============================] - 0s 22ms/step - loss: 0.0033\n",
      "Epoch 74/100\n",
      "19/19 [==============================] - 0s 22ms/step - loss: 0.0034\n",
      "Epoch 75/100\n",
      "19/19 [==============================] - 0s 22ms/step - loss: 0.0037\n",
      "Epoch 76/100\n",
      "19/19 [==============================] - 0s 21ms/step - loss: 0.0034\n",
      "Epoch 77/100\n",
      "19/19 [==============================] - 0s 22ms/step - loss: 0.0031\n",
      "Epoch 78/100\n",
      "19/19 [==============================] - 0s 22ms/step - loss: 0.0032\n",
      "Epoch 79/100\n",
      "19/19 [==============================] - 0s 22ms/step - loss: 0.0033\n",
      "Epoch 80/100\n",
      "19/19 [==============================] - 0s 22ms/step - loss: 0.0035\n",
      "Epoch 81/100\n",
      "19/19 [==============================] - 0s 22ms/step - loss: 0.0033\n",
      "Epoch 82/100\n",
      "19/19 [==============================] - 0s 22ms/step - loss: 0.0034\n",
      "Epoch 83/100\n",
      "19/19 [==============================] - 0s 22ms/step - loss: 0.0035\n",
      "Epoch 84/100\n",
      "19/19 [==============================] - 0s 22ms/step - loss: 0.0033\n",
      "Epoch 85/100\n",
      "19/19 [==============================] - 0s 23ms/step - loss: 0.0031\n",
      "Epoch 86/100\n",
      "19/19 [==============================] - 0s 22ms/step - loss: 0.0032\n",
      "Epoch 87/100\n",
      "19/19 [==============================] - 0s 22ms/step - loss: 0.0032\n",
      "Epoch 88/100\n",
      "19/19 [==============================] - 0s 22ms/step - loss: 0.0033\n",
      "Epoch 89/100\n",
      "19/19 [==============================] - 0s 22ms/step - loss: 0.0030\n",
      "Epoch 90/100\n",
      "19/19 [==============================] - 0s 22ms/step - loss: 0.0031\n",
      "Epoch 91/100\n",
      "19/19 [==============================] - 0s 22ms/step - loss: 0.0033\n",
      "Epoch 92/100\n",
      "19/19 [==============================] - 0s 22ms/step - loss: 0.0034\n",
      "Epoch 93/100\n",
      "19/19 [==============================] - 0s 22ms/step - loss: 0.0033\n",
      "Epoch 94/100\n",
      "19/19 [==============================] - 0s 22ms/step - loss: 0.0031\n",
      "Epoch 95/100\n",
      "19/19 [==============================] - 0s 22ms/step - loss: 0.0031\n",
      "Epoch 96/100\n",
      "19/19 [==============================] - 0s 26ms/step - loss: 0.0031\n",
      "Epoch 97/100\n",
      "19/19 [==============================] - 0s 25ms/step - loss: 0.0033\n",
      "Epoch 98/100\n",
      "19/19 [==============================] - 0s 22ms/step - loss: 0.0032\n",
      "Epoch 99/100\n",
      "19/19 [==============================] - 0s 22ms/step - loss: 0.0028\n",
      "Epoch 100/100\n",
      "19/19 [==============================] - 0s 22ms/step - loss: 0.0027\n"
     ]
    },
    {
     "data": {
      "text/plain": [
       "<keras.callbacks.History at 0x1dc42c078e0>"
      ]
     },
     "execution_count": 8,
     "metadata": {},
     "output_type": "execute_result"
    }
   ],
   "source": [
    "# Create Neural Network\n",
    "\n",
    "model = Sequential()\n",
    "\n",
    "model.add(LSTM(units = 50, return_sequences=True, input_shape = (x_train.shape[1],1)))\n",
    "model.add(Dropout(0.2))\n",
    "model.add(LSTM(units = 50, return_sequences=True))\n",
    "model.add(Dropout(0.2))\n",
    "model.add(LSTM(units = 50, return_sequences=True))\n",
    "model.add(Dropout(0.2))\n",
    "model.add(LSTM(units = 50))\n",
    "model.add(Dropout(0.2))\n",
    "model.add(Dense(units=1))\n",
    "model.compile(optimizer='adam', loss = 'mean_squared_error')\n",
    "\n",
    "## Fit the model\n",
    "model.fit(x_train, y_train, epochs=100, batch_size=32)"
   ]
  },
  {
   "cell_type": "code",
   "execution_count": 9,
   "id": "546d40f1",
   "metadata": {},
   "outputs": [
    {
     "data": {
      "text/plain": [
       "[<matplotlib.lines.Line2D at 0x1dc5180cac0>]"
      ]
     },
     "execution_count": 9,
     "metadata": {},
     "output_type": "execute_result"
    },
    {
     "data": {
      "image/png": "[encoded data removed]",
      "text/plain": [
       "<Figure size 432x288 with 1 Axes>"
      ]
     },
     "metadata": {
      "needs_background": "light"
     },
     "output_type": "display_data"
    }
   ],
   "source": [
    "## Ploting loss\n",
    "\n",
    "loss_per_epoch = model.history.history['loss']\n",
    "plt.plot(range(len(loss_per_epoch)),loss_per_epoch)"
   ]
  },
  {
   "cell_type": "markdown",
   "id": "0c4620d0",
   "metadata": {},
   "source": [
    "### Model Prediction"
   ]
  },
  {
   "cell_type": "code",
   "execution_count": 10,
   "id": "f8e2338d",
   "metadata": {},
   "outputs": [
    {
     "name": "stdout",
     "output_type": "stream",
     "text": [
      "1/1 [==============================] - 1s 1s/step\n"
     ]
    }
   ],
   "source": [
    "# Predicting the test data (30 days)\n",
    "\n",
    "prediction_prices = model.predict(x_test)\n",
    "\n",
    "# Transforming the predicted data back to actual form\n",
    "\n",
    "prediction_prices = scaler.inverse_transform(prediction_prices)"
   ]
  },
  {
   "cell_type": "markdown",
   "id": "46919ee2",
   "metadata": {},
   "source": [
    "### Actual Test Data vs Predicted Test Data Plot"
   ]
  },
  {
   "cell_type": "code",
   "execution_count": 21,
   "id": "1a86df78",
   "metadata": {},
   "outputs": [
    {
     "data": {
      "image/png": "[encoded data removed]",
      "text/plain": [
       "<Figure size 1080x432 with 1 Axes>"
      ]
     },
     "metadata": {
      "needs_background": "light"
     },
     "output_type": "display_data"
    }
   ],
   "source": [
    "date_range = test_data.index\n",
    "\n",
    "plt.figure(figsize = (15, 6))\n",
    "plt.xlabel('Time')\n",
    "plt.ylabel('BTC Closing Price in USD')\n",
    "plt.plot(date_range, actual_prices, color = 'black', label = 'Actual Closing BTC Price')\n",
    "plt.plot(date_range, prediction_prices, color = 'green', marker ='o', linestyle = 'dashed', label = 'Predicted Closing BTC Price')\n",
    "plt.title('BTC-USD Closing Price Actual vs Prediction', fontsize = 17)\n",
    "plt.legend(loc = 'upper left')\n",
    "plt.show()"
   ]
  },
  {
   "cell_type": "code",
   "execution_count": 12,
   "id": "af1ffbb7",
   "metadata": {},
   "outputs": [
    {
     "name": "stdout",
     "output_type": "stream",
     "text": [
      "1/1 [==============================] - 1s 1s/step\n",
      "Oct 1, 2022 BTC Closing Predicted Price: [[19489.791]]\n",
      "Sept 30, 2022 BTC Closing Predicted Price: [[19342.771]]\n"
     ]
    }
   ],
   "source": [
    "# Prediction for next day (Oct 1, 2022)\n",
    "\n",
    "real_data = [model_inputs[len(model_inputs)+1 - prediction_days:len(model_inputs) + 1, 0]]\n",
    "\n",
    "real_data = np.array(real_data)\n",
    "real_data = np.reshape(real_data, (real_data.shape[0], real_data.shape[1], 1))\n",
    "real_data\n",
    "len(real_data)\n",
    "\n",
    "prediction_oct_1 = model.predict(real_data)\n",
    "prediction_oct_1 = scaler.inverse_transform(prediction_oct_1)\n",
    "print(\"Oct 1, 2022 BTC Closing Predicted Price:\", prediction_oct_1)\n",
    "\n",
    "# Prediction value for Sept 30, 2022\n",
    "\n",
    "pred_30_sept = prediction_prices[-1:]\n",
    "print(\"Sept 30, 2022 BTC Closing Predicted Price:\", pred_30_sept)"
   ]
  },
  {
   "cell_type": "markdown",
   "id": "56960616",
   "metadata": {},
   "source": [
    "### Model Evaluation"
   ]
  },
  {
   "cell_type": "code",
   "execution_count": 13,
   "id": "79b189b9",
   "metadata": {},
   "outputs": [
    {
     "name": "stdout",
     "output_type": "stream",
     "text": [
      "RMSE for 30 days: 792.6307141212601\n"
     ]
    }
   ],
   "source": [
    "## RMSE for 30 days test data (Sept 2022)\n",
    "\n",
    "from sklearn.metrics import mean_squared_error\n",
    "mse = mean_squared_error(actual_prices,prediction_prices)\n",
    "rmse = np.sqrt(mse)\n",
    "print('RMSE for 30 days:', rmse)"
   ]
  },
  {
   "cell_type": "code",
   "execution_count": 14,
   "id": "3ae374c7",
   "metadata": {},
   "outputs": [
    {
     "name": "stdout",
     "output_type": "stream",
     "text": [
      "RMSE for 1 day: 89.017578125\n",
      "[19431.7890625] [[19342.771]]\n"
     ]
    }
   ],
   "source": [
    "## RMSE for 1 day Sept 30, 2022\n",
    "\n",
    "actual_30_sept = test_data['Close'][-1:].values\n",
    "\n",
    "mse = mean_squared_error(actual_30_sept,pred_30_sept)\n",
    "rmse = np.sqrt(mse)\n",
    "print('RMSE for 1 day:', rmse)\n",
    "print(actual_30_sept,pred_30_sept)"
   ]
  }
 ],
 "metadata": {
  "kernelspec": {
   "display_name": "Python 3 (ipykernel)",
   "language": "python",
   "name": "python3"
  },
  "language_info": {
   "codemirror_mode": {
    "name": "ipython",
    "version": 3
   },
   "file_extension": ".py",
   "mimetype": "text/x-python",
   "name": "python",
   "nbconvert_exporter": "python",
   "pygments_lexer": "ipython3",
   "version": "3.10.5"
  }
 },
 "nbformat": 4,
 "nbformat_minor": 5
}
